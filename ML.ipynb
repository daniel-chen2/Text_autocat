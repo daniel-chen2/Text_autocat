{
 "cells": [
  {
   "cell_type": "code",
   "execution_count": 1,
   "metadata": {},
   "outputs": [],
   "source": [
    "# imports\n",
    "import nltk\n",
    "import pandas as pd\n",
    "from sklearn.feature_extraction.text import TfidfVectorizer"
   ]
  },
  {
   "cell_type": "code",
   "execution_count": 2,
   "metadata": {},
   "outputs": [],
   "source": [
    "class Review:\n",
    "    def __init__(self, text, category):\n",
    "        self.text = text\n",
    "        self.category = category     "
   ]
  },
  {
   "cell_type": "code",
   "execution_count": 3,
   "metadata": {},
   "outputs": [],
   "source": [
    "import csv\n",
    "\n",
    "amazonReviews = []\n",
    "\n",
    "with open('val_10k.csv', newline='') as csvfile:\n",
    "    spamreader = csv.reader(csvfile, delimiter=',', quotechar='|')\n",
    "    for row in spamreader:\n",
    "        amazonReviews.append(Review(row[6], row[7]))\n",
    "        "
   ]
  },
  {
   "cell_type": "code",
   "execution_count": 4,
   "metadata": {},
   "outputs": [],
   "source": [
    "from sklearn.model_selection import train_test_split\n",
    "\n",
    "amazonReviews = amazonReviews[0: 1000]\n",
    "training, test = train_test_split(amazonReviews, test_size=0.3, random_state=50)"
   ]
  },
  {
   "cell_type": "code",
   "execution_count": 5,
   "metadata": {},
   "outputs": [],
   "source": [
    "train_x = [x.text for x in training]\n",
    "train_y = [x.category for x in training]\n",
    "\n",
    "test_x = [x.text for x in test]\n",
    "test_y = [x.category for x in test]"
   ]
  },
  {
   "cell_type": "code",
   "execution_count": 6,
   "metadata": {},
   "outputs": [],
   "source": [
    "from sklearn.feature_extraction.text import CountVectorizer\n",
    "from sklearn.feature_extraction.text import TfidfVectorizer\n",
    "\n",
    "vectorizer = TfidfVectorizer(analyzer = \"word\", \n",
    "                             lowercase=True, \n",
    "                             tokenizer = None, \n",
    "                             preprocessor = None, \n",
    "                             stop_words = None, \n",
    "                             max_features = 5000)\n",
    "train_x_vectors = vectorizer.fit_transform(train_x)\n",
    "test_x_vectors = vectorizer.transform(test_x)\n"
   ]
  },
  {
   "cell_type": "code",
   "execution_count": 7,
   "metadata": {},
   "outputs": [
    {
     "data": {
      "text/plain": [
       "'\"this product is good because it comes with its own laxative and does not cause constipation associated with other iron tablets. tolerance is better. I have used it for a while and have good results. no stomach upset'"
      ]
     },
     "execution_count": 7,
     "metadata": {},
     "output_type": "execute_result"
    }
   ],
   "source": [
    "from sklearn import svm\n",
    "\n",
    "clf_svm = svm.SVC(kernel='linear')\n",
    "clf_svm.fit(train_x_vectors, train_y)\n",
    "\n",
    "test_x[0]\n"
   ]
  },
  {
   "cell_type": "code",
   "execution_count": 8,
   "metadata": {},
   "outputs": [
    {
     "data": {
      "text/plain": [
       "array(['beauty', 'health personal care', 'health personal care',\n",
       "       'health personal care', 'beauty', 'health personal care',\n",
       "       'health personal care', 'health personal care',\n",
       "       'health personal care', 'health personal care',\n",
       "       'health personal care', 'health personal care',\n",
       "       'health personal care', 'health personal care', 'beauty',\n",
       "       'health personal care', 'health personal care', 'beauty',\n",
       "       'health personal care', 'beauty', 'beauty', 'toys games',\n",
       "       'pet supplies', 'health personal care',\n",
       "       \"Nail Tek Hydration Therapy IV nail polish has given me the longer nails that don't grow that length on their own.\",\n",
       "       'health personal care', 'beauty', 'beauty', 'health personal care',\n",
       "       'health personal care', 'beauty', 'health personal care',\n",
       "       'health personal care', 'beauty',\n",
       "       'The baby pug was so soft and really well made. I would highly recommend this for a child. It was exactly what I was looking for.',\n",
       "       'health personal care', 'health personal care', 'pet supplies',\n",
       "       'health personal care', 'health personal care',\n",
       "       'health personal care', 'health personal care',\n",
       "       'health personal care', 'health personal care',\n",
       "       'health personal care', 'health personal care', 'beauty',\n",
       "       'The baby pug was so soft and really well made. I would highly recommend this for a child. It was exactly what I was looking for.',\n",
       "       'health personal care', 'health personal care',\n",
       "       'health personal care',\n",
       "       \"You can't beat the price for this wheelchair. Its great for transporting people in places like wal-mart and target. It is construted for the average person. I used it for a person that weighed 170lbs.. The footrest are made of plastic which is ok as long as you do not put all of your weight on it.\",\n",
       "       'health personal care', 'health personal care',\n",
       "       'health personal care', 'health personal care',\n",
       "       'health personal care', 'beauty', 'beauty',\n",
       "       \"This isn't my first time drinking this. My brother had it a while ago and I used it and feel the energy just ready to release.I bought this because I am on a diet again. I do notice a difference when I do not take it. (this is not something i was experimenting on. I just happened to forgot to drink it) I wouldn't be able to go all out.definitely love the taste of it.go get it for your pre-workout\",\n",
       "       'beauty', 'health personal care', 'health personal care', 'beauty',\n",
       "       'health personal care', 'health personal care',\n",
       "       'health personal care', 'beauty',\n",
       "       'Great taste. If they have any health benefit that would be a bouns. They seem to stay fresh a long time and are 1/2 the price here as compared to the world market.',\n",
       "       'beauty', 'health personal care', 'health personal care',\n",
       "       'pet supplies', 'health personal care', 'health personal care',\n",
       "       'health personal care', 'health personal care', 'beauty', 'beauty',\n",
       "       'health personal care', 'health personal care', 'beauty',\n",
       "       'toys games', 'health personal care', 'beauty',\n",
       "       'health personal care', 'health personal care',\n",
       "       'health personal care', 'beauty', 'health personal care',\n",
       "       'I have been using thiese spacers for years. I need bunion surgery and am trying all kinds of things to postpone the surgery as long as possible. These spacers are what help the most and help keep my feet happy!',\n",
       "       'health personal care', 'health personal care',\n",
       "       'health personal care', 'beauty', 'health personal care',\n",
       "       'health personal care', 'health personal care', 'beauty',\n",
       "       'health personal care', 'health personal care',\n",
       "       'health personal care', 'health personal care', 'pet supplies',\n",
       "       'health personal care',\n",
       "       'I had been reading a lot about what would increase milk production. Taking two of these capsules 3 times a day really made a difference. The product arrive quickly and did the trick. I would recommended it.',\n",
       "       \"You can't beat the price for this wheelchair. Its great for transporting people in places like wal-mart and target. It is construted for the average person. I used it for a person that weighed 170lbs.. The footrest are made of plastic which is ok as long as you do not put all of your weight on it.\",\n",
       "       'health personal care', 'health personal care', 'beauty',\n",
       "       'health personal care', 'beauty', 'beauty', 'pet supplies',\n",
       "       'health personal care', 'health personal care',\n",
       "       'health personal care', 'health personal care',\n",
       "       'I purchased this for my husband he has sensitive skin and its hard to find something that doesnt break him out this is a great product the smell is not over barring a light citrus with is good.',\n",
       "       'health personal care', 'beauty', 'health personal care',\n",
       "       'health personal care', 'health personal care', 'pet supplies',\n",
       "       'beauty', 'health personal care',\n",
       "       'Great taste. If they have any health benefit that would be a bouns. They seem to stay fresh a long time and are 1/2 the price here as compared to the world market.',\n",
       "       'health personal care', 'pet supplies', 'health personal care',\n",
       "       'beauty', 'health personal care', 'health personal care',\n",
       "       'health personal care', 'beauty', 'pet supplies',\n",
       "       'health personal care', 'health personal care',\n",
       "       'health personal care', 'health personal care',\n",
       "       'health personal care', 'beauty', 'health personal care',\n",
       "       'health personal care', 'beauty', 'health personal care', 'beauty',\n",
       "       'beauty', 'health personal care', 'health personal care',\n",
       "       'health personal care', 'health personal care',\n",
       "       'The baby pug was so soft and really well made. I would highly recommend this for a child. It was exactly what I was looking for.',\n",
       "       'health personal care', 'health personal care', 'beauty',\n",
       "       'health personal care', 'health personal care',\n",
       "       'health personal care', 'health personal care',\n",
       "       'health personal care', 'beauty', 'health personal care', 'beauty',\n",
       "       'health personal care', 'pet supplies', 'health personal care',\n",
       "       'health personal care', 'health personal care',\n",
       "       'health personal care', 'health personal care', 'beauty',\n",
       "       'health personal care', 'beauty', 'health personal care',\n",
       "       'health personal care',\n",
       "       'Ive been gettting these through Subscribe and Save for a while. Does a great job cleaning the dishes. Couple it with Finish drying agent and you are in great shape. My only complaint is that the red ball falls out of the other piece more than it stays in so you have to be careful handling them or you will be chasing it around your kitchen.',\n",
       "       'health personal care', 'pet supplies', 'health personal care',\n",
       "       'health personal care', 'health personal care',\n",
       "       'health personal care', 'pet supplies', 'beauty', 'pet supplies',\n",
       "       'pet supplies',\n",
       "       'I certainly was in great need of a new curling iron and this one works great. It ismuch better than the one I replaced.',\n",
       "       'health personal care', 'health personal care',\n",
       "       'health personal care', 'health personal care',\n",
       "       'health personal care', 'health personal care',\n",
       "       'health personal care', 'health personal care', 'toys games',\n",
       "       'health personal care', 'health personal care',\n",
       "       'health personal care',\n",
       "       \"Nail Tek Hydration Therapy IV nail polish has given me the longer nails that don't grow that length on their own.\",\n",
       "       'pet supplies',\n",
       "       'Great taste. If they have any health benefit that would be a bouns. They seem to stay fresh a long time and are 1/2 the price here as compared to the world market.',\n",
       "       'health personal care', 'health personal care',\n",
       "       'health personal care', 'health personal care',\n",
       "       'health personal care', 'beauty', 'beauty', 'beauty',\n",
       "       'health personal care', 'beauty', 'health personal care',\n",
       "       'So insanely cheaply made did not last 10 seconds before it was in pieces!! Do not waste your money. My dog managed to squeak it once before it literally came apart at the seams.',\n",
       "       'health personal care', 'beauty', 'beauty', 'beauty',\n",
       "       \"Nail Tek Hydration Therapy IV nail polish has given me the longer nails that don't grow that length on their own.\",\n",
       "       'beauty', 'beauty', 'health personal care',\n",
       "       \"Nail Tek Hydration Therapy IV nail polish has given me the longer nails that don't grow that length on their own.\",\n",
       "       'health personal care', 'health personal care', 'beauty',\n",
       "       'I purchased this for my husband he has sensitive skin and its hard to find something that doesnt break him out this is a great product the smell is not over barring a light citrus with is good.',\n",
       "       'beauty', 'beauty', 'health personal care', 'health personal care',\n",
       "       'beauty', 'health personal care', 'health personal care', 'beauty',\n",
       "       'health personal care', 'health personal care',\n",
       "       'health personal care', 'beauty', 'beauty', 'beauty',\n",
       "       'health personal care', 'health personal care',\n",
       "       'health personal care', 'beauty', 'health personal care',\n",
       "       'health personal care', 'health personal care',\n",
       "       'health personal care', 'beauty', 'health personal care',\n",
       "       'toys games', 'health personal care', 'toys games',\n",
       "       'health personal care', 'health personal care',\n",
       "       'health personal care', 'pet supplies', 'beauty', 'beauty',\n",
       "       'health personal care', 'beauty', 'health personal care',\n",
       "       'health personal care', 'health personal care',\n",
       "       'health personal care', 'health personal care',\n",
       "       'health personal care', 'health personal care', 'beauty',\n",
       "       'health personal care', 'health personal care', 'beauty',\n",
       "       'health personal care', 'health personal care',\n",
       "       'health personal care', 'beauty', 'health personal care',\n",
       "       'I certainly was in great need of a new curling iron and this one works great. It ismuch better than the one I replaced.',\n",
       "       'beauty', 'health personal care',\n",
       "       'The baby pug was so soft and really well made. I would highly recommend this for a child. It was exactly what I was looking for.',\n",
       "       'pet supplies', 'health personal care', 'health personal care',\n",
       "       'health personal care', 'health personal care',\n",
       "       'health personal care', 'health personal care',\n",
       "       'health personal care', 'health personal care',\n",
       "       'health personal care', 'health personal care',\n",
       "       'health personal care', 'health personal care',\n",
       "       'health personal care', 'health personal care',\n",
       "       'health personal care'], dtype='<U787')"
      ]
     },
     "execution_count": 8,
     "metadata": {},
     "output_type": "execute_result"
    }
   ],
   "source": [
    "clf_svm.predict(test_x_vectors)"
   ]
  },
  {
   "cell_type": "code",
   "execution_count": 9,
   "metadata": {},
   "outputs": [
    {
     "data": {
      "text/html": [
       "<style>#sk-container-id-1 {color: black;background-color: white;}#sk-container-id-1 pre{padding: 0;}#sk-container-id-1 div.sk-toggleable {background-color: white;}#sk-container-id-1 label.sk-toggleable__label {cursor: pointer;display: block;width: 100%;margin-bottom: 0;padding: 0.3em;box-sizing: border-box;text-align: center;}#sk-container-id-1 label.sk-toggleable__label-arrow:before {content: \"▸\";float: left;margin-right: 0.25em;color: #696969;}#sk-container-id-1 label.sk-toggleable__label-arrow:hover:before {color: black;}#sk-container-id-1 div.sk-estimator:hover label.sk-toggleable__label-arrow:before {color: black;}#sk-container-id-1 div.sk-toggleable__content {max-height: 0;max-width: 0;overflow: hidden;text-align: left;background-color: #f0f8ff;}#sk-container-id-1 div.sk-toggleable__content pre {margin: 0.2em;color: black;border-radius: 0.25em;background-color: #f0f8ff;}#sk-container-id-1 input.sk-toggleable__control:checked~div.sk-toggleable__content {max-height: 200px;max-width: 100%;overflow: auto;}#sk-container-id-1 input.sk-toggleable__control:checked~label.sk-toggleable__label-arrow:before {content: \"▾\";}#sk-container-id-1 div.sk-estimator input.sk-toggleable__control:checked~label.sk-toggleable__label {background-color: #d4ebff;}#sk-container-id-1 div.sk-label input.sk-toggleable__control:checked~label.sk-toggleable__label {background-color: #d4ebff;}#sk-container-id-1 input.sk-hidden--visually {border: 0;clip: rect(1px 1px 1px 1px);clip: rect(1px, 1px, 1px, 1px);height: 1px;margin: -1px;overflow: hidden;padding: 0;position: absolute;width: 1px;}#sk-container-id-1 div.sk-estimator {font-family: monospace;background-color: #f0f8ff;border: 1px dotted black;border-radius: 0.25em;box-sizing: border-box;margin-bottom: 0.5em;}#sk-container-id-1 div.sk-estimator:hover {background-color: #d4ebff;}#sk-container-id-1 div.sk-parallel-item::after {content: \"\";width: 100%;border-bottom: 1px solid gray;flex-grow: 1;}#sk-container-id-1 div.sk-label:hover label.sk-toggleable__label {background-color: #d4ebff;}#sk-container-id-1 div.sk-serial::before {content: \"\";position: absolute;border-left: 1px solid gray;box-sizing: border-box;top: 0;bottom: 0;left: 50%;z-index: 0;}#sk-container-id-1 div.sk-serial {display: flex;flex-direction: column;align-items: center;background-color: white;padding-right: 0.2em;padding-left: 0.2em;position: relative;}#sk-container-id-1 div.sk-item {position: relative;z-index: 1;}#sk-container-id-1 div.sk-parallel {display: flex;align-items: stretch;justify-content: center;background-color: white;position: relative;}#sk-container-id-1 div.sk-item::before, #sk-container-id-1 div.sk-parallel-item::before {content: \"\";position: absolute;border-left: 1px solid gray;box-sizing: border-box;top: 0;bottom: 0;left: 50%;z-index: -1;}#sk-container-id-1 div.sk-parallel-item {display: flex;flex-direction: column;z-index: 1;position: relative;background-color: white;}#sk-container-id-1 div.sk-parallel-item:first-child::after {align-self: flex-end;width: 50%;}#sk-container-id-1 div.sk-parallel-item:last-child::after {align-self: flex-start;width: 50%;}#sk-container-id-1 div.sk-parallel-item:only-child::after {width: 0;}#sk-container-id-1 div.sk-dashed-wrapped {border: 1px dashed gray;margin: 0 0.4em 0.5em 0.4em;box-sizing: border-box;padding-bottom: 0.4em;background-color: white;}#sk-container-id-1 div.sk-label label {font-family: monospace;font-weight: bold;display: inline-block;line-height: 1.2em;}#sk-container-id-1 div.sk-label-container {text-align: center;}#sk-container-id-1 div.sk-container {/* jupyter's `normalize.less` sets `[hidden] { display: none; }` but bootstrap.min.css set `[hidden] { display: none !important; }` so we also need the `!important` here to be able to override the default hidden behavior on the sphinx rendered scikit-learn.org. See: https://github.com/scikit-learn/scikit-learn/issues/21755 */display: inline-block !important;position: relative;}#sk-container-id-1 div.sk-text-repr-fallback {display: none;}</style><div id=\"sk-container-id-1\" class=\"sk-top-container\"><div class=\"sk-text-repr-fallback\"><pre>MultinomialNB()</pre><b>In a Jupyter environment, please rerun this cell to show the HTML representation or trust the notebook. <br />On GitHub, the HTML representation is unable to render, please try loading this page with nbviewer.org.</b></div><div class=\"sk-container\" hidden><div class=\"sk-item\"><div class=\"sk-estimator sk-toggleable\"><input class=\"sk-toggleable__control sk-hidden--visually\" id=\"sk-estimator-id-1\" type=\"checkbox\" checked><label for=\"sk-estimator-id-1\" class=\"sk-toggleable__label sk-toggleable__label-arrow\">MultinomialNB</label><div class=\"sk-toggleable__content\"><pre>MultinomialNB()</pre></div></div></div></div></div>"
      ],
      "text/plain": [
       "MultinomialNB()"
      ]
     },
     "execution_count": 9,
     "metadata": {},
     "output_type": "execute_result"
    }
   ],
   "source": [
    "from sklearn.naive_bayes import MultinomialNB\n",
    "\n",
    "MNBclf = MultinomialNB()\n",
    "MNBclf.fit(train_x_vectors, train_y)"
   ]
  },
  {
   "cell_type": "code",
   "execution_count": 10,
   "metadata": {},
   "outputs": [
    {
     "data": {
      "text/plain": [
       "array(['health personal care'], dtype='<U787')"
      ]
     },
     "execution_count": 10,
     "metadata": {},
     "output_type": "execute_result"
    }
   ],
   "source": [
    "MNBclf.predict(test_x_vectors[0])"
   ]
  },
  {
   "cell_type": "code",
   "execution_count": 11,
   "metadata": {},
   "outputs": [
    {
     "name": "stdout",
     "output_type": "stream",
     "text": [
      "0.09666666666666666\n",
      "0.09\n"
     ]
    }
   ],
   "source": [
    "print(clf_svm.score(test_x_vectors, test_y))\n",
    "print(MNBclf.score(test_x_vectors, test_y))"
   ]
  },
  {
   "cell_type": "code",
   "execution_count": 126,
   "metadata": {},
   "outputs": [
    {
     "data": {
      "text/plain": [
       "array([0., 0., 0., ..., 0., 0., 0.])"
      ]
     },
     "execution_count": 126,
     "metadata": {},
     "output_type": "execute_result"
    }
   ],
   "source": [
    "# F1 Score\n",
    "from sklearn.metrics import f1_score\n",
    "\n",
    "# f1_score(test_y, clf_svm.predict(test_x_vectors), average=None, labels=[Sentiment.POSITIVE, Sentiment.NEUTRAL, Sentiment.NEGATIVE])\n",
    "f1_score(test_y, MNBclf.predict(test_x_vectors), average=None) "
   ]
  },
  {
   "cell_type": "code",
   "execution_count": 127,
   "metadata": {},
   "outputs": [],
   "source": [
    "from sklearn.metrics import confusion_matrix\n",
    "import seaborn as sn\n",
    "import pandas as pd\n",
    "import matplotlib as plt\n",
    "\n",
    "y_pred = clf_svm.predict(test_x_vectors)\n",
    "\n",
    "labels=[Sentiment.POSITIVE, Sentiment.NEGATIVE]\n",
    "\n",
    "cm = confusion_matrix(test_y, y_pred, labels=labels)\n",
    "df_cm = pd.DataFrame(cm, index=labels, columns=labels)\n",
    "\n",
    "sn.heatmap(df_cm, annot=True, fmt='d')"
   ]
  }
 ],
 "metadata": {
  "kernelspec": {
   "display_name": "Python 3",
   "language": "python",
   "name": "python3"
  },
  "language_info": {
   "codemirror_mode": {
    "name": "ipython",
    "version": 3
   },
   "file_extension": ".py",
   "mimetype": "text/x-python",
   "name": "python",
   "nbconvert_exporter": "python",
   "pygments_lexer": "ipython3",
   "version": "3.10.10"
  },
  "orig_nbformat": 4,
  "vscode": {
   "interpreter": {
    "hash": "657235aa0de3586aaf4a52255a6fb028ebc4f65396df7457e04f136d7fbd7ba8"
   }
  }
 },
 "nbformat": 4,
 "nbformat_minor": 2
}
